{
 "cells": [
  {
   "cell_type": "markdown",
   "metadata": {},
   "source": [
    "## Covid19 Tweets EDA and Text Sentiment Analysis"
   ]
  },
  {
   "cell_type": "code",
   "execution_count": 4,
   "metadata": {},
   "outputs": [],
   "source": [
    "import pandas as pd\n",
    "import numpy as np\n",
    "import scipy.stats as stats\n",
    "import matplotlib.pyplot as plt\n",
    "import seaborn as sns\n",
    "import datetime\n",
    "# import nltk\n",
    "\n",
    "%matplotlib inline\n",
    "plt.style.use('ggplot')"
   ]
  },
  {
   "cell_type": "code",
   "execution_count": 3,
   "metadata": {},
   "outputs": [],
   "source": [
    "#To set up JupyterLab\n",
    "#1. Make sure docker is running. If another container is running, use 'docker rm [name]' to remove it\n",
    "#2. Run docker container:\n",
    "#   'sudo docker run -d --name sparkbook -p 8881:8888 -v \"$PWD\":/home/jovyan/work jupyter/pyspark-notebook start.sh jupyter lab --LabApp.token='' '\n",
    "#   'docker exec -it sparkbook bash'\n",
    "#3. Open browser and go to 'localhost:8881'"
   ]
  },
  {
   "cell_type": "code",
   "execution_count": 5,
   "metadata": {},
   "outputs": [
    {
     "data": {
      "text/html": [
       "\n",
       "        <div>\n",
       "            <p><b>SparkContext</b></p>\n",
       "\n",
       "            <p><a href=\"http://a6392cad0e14:4040\">Spark UI</a></p>\n",
       "\n",
       "            <dl>\n",
       "              <dt>Version</dt>\n",
       "                <dd><code>v3.0.0</code></dd>\n",
       "              <dt>Master</dt>\n",
       "                <dd><code>local[4]</code></dd>\n",
       "              <dt>AppName</dt>\n",
       "                <dd><code>Covid19_tweets</code></dd>\n",
       "            </dl>\n",
       "        </div>\n",
       "        "
      ],
      "text/plain": [
       "<SparkContext master=local[4] appName=Covid19_tweets>"
      ]
     },
     "execution_count": 5,
     "metadata": {},
     "output_type": "execute_result"
    }
   ],
   "source": [
    "#Setting up pyspark session\n",
    "import pyspark as ps\n",
    "\n",
    "spark = (ps.sql.SparkSession\n",
    "            .builder\n",
    "            .master('local[4]')\n",
    "            .appName('Covid19_tweets')\n",
    "            .getOrCreate())\n",
    "\n",
    "sc = spark.sparkContext\n",
    "sc"
   ]
  },
  {
   "cell_type": "code",
   "execution_count": 7,
   "metadata": {
    "scrolled": true
   },
   "outputs": [
    {
     "data": {
      "text/html": [
       "<div>\n",
       "<style scoped>\n",
       "    .dataframe tbody tr th:only-of-type {\n",
       "        vertical-align: middle;\n",
       "    }\n",
       "\n",
       "    .dataframe tbody tr th {\n",
       "        vertical-align: top;\n",
       "    }\n",
       "\n",
       "    .dataframe thead th {\n",
       "        text-align: right;\n",
       "    }\n",
       "</style>\n",
       "<table border=\"1\" class=\"dataframe\">\n",
       "  <thead>\n",
       "    <tr style=\"text-align: right;\">\n",
       "      <th></th>\n",
       "      <th>user_name</th>\n",
       "      <th>user_location</th>\n",
       "      <th>user_description</th>\n",
       "      <th>user_created</th>\n",
       "      <th>user_followers</th>\n",
       "      <th>user_friends</th>\n",
       "      <th>user_favourites</th>\n",
       "      <th>user_verified</th>\n",
       "      <th>date</th>\n",
       "      <th>text</th>\n",
       "      <th>hashtags</th>\n",
       "      <th>source</th>\n",
       "      <th>is_retweet</th>\n",
       "    </tr>\n",
       "  </thead>\n",
       "  <tbody>\n",
       "    <tr>\n",
       "      <th>0</th>\n",
       "      <td>ᏉᎥ☻լꂅϮ</td>\n",
       "      <td>astroworld</td>\n",
       "      <td>wednesday addams as a disney princess keepin i...</td>\n",
       "      <td>2017-05-26 05:46:42</td>\n",
       "      <td>624</td>\n",
       "      <td>950</td>\n",
       "      <td>18775</td>\n",
       "      <td>False</td>\n",
       "      <td>2020-07-25 12:27:21</td>\n",
       "      <td>If I smelled the scent of hand sanitizers toda...</td>\n",
       "      <td>NaN</td>\n",
       "      <td>Twitter for iPhone</td>\n",
       "      <td>False</td>\n",
       "    </tr>\n",
       "    <tr>\n",
       "      <th>1</th>\n",
       "      <td>Tom Basile 🇺🇸</td>\n",
       "      <td>New York, NY</td>\n",
       "      <td>Husband, Father, Columnist &amp; Commentator. Auth...</td>\n",
       "      <td>2009-04-16 20:06:23</td>\n",
       "      <td>2253</td>\n",
       "      <td>1677</td>\n",
       "      <td>24</td>\n",
       "      <td>True</td>\n",
       "      <td>2020-07-25 12:27:17</td>\n",
       "      <td>Hey @Yankees @YankeesPR and @MLB - wouldn't it...</td>\n",
       "      <td>NaN</td>\n",
       "      <td>Twitter for Android</td>\n",
       "      <td>False</td>\n",
       "    </tr>\n",
       "    <tr>\n",
       "      <th>2</th>\n",
       "      <td>Time4fisticuffs</td>\n",
       "      <td>Pewee Valley, KY</td>\n",
       "      <td>#Christian #Catholic #Conservative #Reagan #Re...</td>\n",
       "      <td>2009-02-28 18:57:41</td>\n",
       "      <td>9275</td>\n",
       "      <td>9525</td>\n",
       "      <td>7254</td>\n",
       "      <td>False</td>\n",
       "      <td>2020-07-25 12:27:14</td>\n",
       "      <td>@diane3443 @wdunlap @realDonaldTrump Trump nev...</td>\n",
       "      <td>['COVID19']</td>\n",
       "      <td>Twitter for Android</td>\n",
       "      <td>False</td>\n",
       "    </tr>\n",
       "    <tr>\n",
       "      <th>3</th>\n",
       "      <td>ethel mertz</td>\n",
       "      <td>Stuck in the Middle</td>\n",
       "      <td>#Browns #Indians #ClevelandProud #[]_[] #Cavs ...</td>\n",
       "      <td>2019-03-07 01:45:06</td>\n",
       "      <td>197</td>\n",
       "      <td>987</td>\n",
       "      <td>1488</td>\n",
       "      <td>False</td>\n",
       "      <td>2020-07-25 12:27:10</td>\n",
       "      <td>@brookbanktv The one gift #COVID19 has give me...</td>\n",
       "      <td>['COVID19']</td>\n",
       "      <td>Twitter for iPhone</td>\n",
       "      <td>False</td>\n",
       "    </tr>\n",
       "    <tr>\n",
       "      <th>4</th>\n",
       "      <td>DIPR-J&amp;K</td>\n",
       "      <td>Jammu and Kashmir</td>\n",
       "      <td>🖊️Official Twitter handle of Department of Inf...</td>\n",
       "      <td>2017-02-12 06:45:15</td>\n",
       "      <td>101009</td>\n",
       "      <td>168</td>\n",
       "      <td>101</td>\n",
       "      <td>False</td>\n",
       "      <td>2020-07-25 12:27:08</td>\n",
       "      <td>25 July : Media Bulletin on Novel #CoronaVirus...</td>\n",
       "      <td>['CoronaVirusUpdates', 'COVID19']</td>\n",
       "      <td>Twitter for Android</td>\n",
       "      <td>False</td>\n",
       "    </tr>\n",
       "  </tbody>\n",
       "</table>\n",
       "</div>"
      ],
      "text/plain": [
       "         user_name         user_location  \\\n",
       "0           ᏉᎥ☻լꂅϮ            astroworld   \n",
       "1    Tom Basile 🇺🇸          New York, NY   \n",
       "2  Time4fisticuffs      Pewee Valley, KY   \n",
       "3      ethel mertz  Stuck in the Middle    \n",
       "4         DIPR-J&K     Jammu and Kashmir   \n",
       "\n",
       "                                    user_description         user_created  \\\n",
       "0  wednesday addams as a disney princess keepin i...  2017-05-26 05:46:42   \n",
       "1  Husband, Father, Columnist & Commentator. Auth...  2009-04-16 20:06:23   \n",
       "2  #Christian #Catholic #Conservative #Reagan #Re...  2009-02-28 18:57:41   \n",
       "3  #Browns #Indians #ClevelandProud #[]_[] #Cavs ...  2019-03-07 01:45:06   \n",
       "4  🖊️Official Twitter handle of Department of Inf...  2017-02-12 06:45:15   \n",
       "\n",
       "   user_followers  user_friends  user_favourites  user_verified  \\\n",
       "0             624           950            18775          False   \n",
       "1            2253          1677               24           True   \n",
       "2            9275          9525             7254          False   \n",
       "3             197           987             1488          False   \n",
       "4          101009           168              101          False   \n",
       "\n",
       "                  date                                               text  \\\n",
       "0  2020-07-25 12:27:21  If I smelled the scent of hand sanitizers toda...   \n",
       "1  2020-07-25 12:27:17  Hey @Yankees @YankeesPR and @MLB - wouldn't it...   \n",
       "2  2020-07-25 12:27:14  @diane3443 @wdunlap @realDonaldTrump Trump nev...   \n",
       "3  2020-07-25 12:27:10  @brookbanktv The one gift #COVID19 has give me...   \n",
       "4  2020-07-25 12:27:08  25 July : Media Bulletin on Novel #CoronaVirus...   \n",
       "\n",
       "                            hashtags               source  is_retweet  \n",
       "0                                NaN   Twitter for iPhone       False  \n",
       "1                                NaN  Twitter for Android       False  \n",
       "2                        ['COVID19']  Twitter for Android       False  \n",
       "3                        ['COVID19']   Twitter for iPhone       False  \n",
       "4  ['CoronaVirusUpdates', 'COVID19']  Twitter for Android       False  "
      ]
     },
     "execution_count": 7,
     "metadata": {},
     "output_type": "execute_result"
    }
   ],
   "source": [
    "covid_data = pd.read_csv('covid19_tweets.csv')\n",
    "covid_data.head()"
   ]
  },
  {
   "cell_type": "code",
   "execution_count": 8,
   "metadata": {},
   "outputs": [
    {
     "data": {
      "text/plain": [
       "(140101, 13)"
      ]
     },
     "execution_count": 8,
     "metadata": {},
     "output_type": "execute_result"
    }
   ],
   "source": [
    "covid_data.shape"
   ]
  },
  {
   "cell_type": "code",
   "execution_count": 9,
   "metadata": {
    "scrolled": true
   },
   "outputs": [
    {
     "data": {
      "text/html": [
       "<div>\n",
       "<style scoped>\n",
       "    .dataframe tbody tr th:only-of-type {\n",
       "        vertical-align: middle;\n",
       "    }\n",
       "\n",
       "    .dataframe tbody tr th {\n",
       "        vertical-align: top;\n",
       "    }\n",
       "\n",
       "    .dataframe thead th {\n",
       "        text-align: right;\n",
       "    }\n",
       "</style>\n",
       "<table border=\"1\" class=\"dataframe\">\n",
       "  <thead>\n",
       "    <tr style=\"text-align: right;\">\n",
       "      <th></th>\n",
       "      <th>user_name</th>\n",
       "      <th>user_location</th>\n",
       "      <th>user_description</th>\n",
       "      <th>user_created</th>\n",
       "      <th>user_followers</th>\n",
       "      <th>user_friends</th>\n",
       "      <th>user_favourites</th>\n",
       "      <th>user_verified</th>\n",
       "      <th>date</th>\n",
       "      <th>text</th>\n",
       "      <th>hashtags</th>\n",
       "      <th>source</th>\n",
       "      <th>is_retweet</th>\n",
       "    </tr>\n",
       "  </thead>\n",
       "  <tbody>\n",
       "    <tr>\n",
       "      <th>0</th>\n",
       "      <td>ᏉᎥ☻լꂅϮ</td>\n",
       "      <td>astroworld</td>\n",
       "      <td>wednesday addams as a disney princess keepin i...</td>\n",
       "      <td>2017-05-26 05:46:42</td>\n",
       "      <td>624</td>\n",
       "      <td>950</td>\n",
       "      <td>18775</td>\n",
       "      <td>False</td>\n",
       "      <td>2020-07-25 12:27:21</td>\n",
       "      <td>If I smelled the scent of hand sanitizers toda...</td>\n",
       "      <td>NaN</td>\n",
       "      <td>Twitter for iPhone</td>\n",
       "      <td>False</td>\n",
       "    </tr>\n",
       "    <tr>\n",
       "      <th>1</th>\n",
       "      <td>Tom Basile 🇺🇸</td>\n",
       "      <td>New York, NY</td>\n",
       "      <td>Husband, Father, Columnist &amp; Commentator. Auth...</td>\n",
       "      <td>2009-04-16 20:06:23</td>\n",
       "      <td>2253</td>\n",
       "      <td>1677</td>\n",
       "      <td>24</td>\n",
       "      <td>True</td>\n",
       "      <td>2020-07-25 12:27:17</td>\n",
       "      <td>Hey @Yankees @YankeesPR and @MLB - wouldn't it...</td>\n",
       "      <td>NaN</td>\n",
       "      <td>Twitter for Android</td>\n",
       "      <td>False</td>\n",
       "    </tr>\n",
       "    <tr>\n",
       "      <th>2</th>\n",
       "      <td>Time4fisticuffs</td>\n",
       "      <td>Pewee Valley, KY</td>\n",
       "      <td>#Christian #Catholic #Conservative #Reagan #Re...</td>\n",
       "      <td>2009-02-28 18:57:41</td>\n",
       "      <td>9275</td>\n",
       "      <td>9525</td>\n",
       "      <td>7254</td>\n",
       "      <td>False</td>\n",
       "      <td>2020-07-25 12:27:14</td>\n",
       "      <td>@diane3443 @wdunlap @realDonaldTrump Trump nev...</td>\n",
       "      <td>['COVID19']</td>\n",
       "      <td>Twitter for Android</td>\n",
       "      <td>False</td>\n",
       "    </tr>\n",
       "    <tr>\n",
       "      <th>3</th>\n",
       "      <td>ethel mertz</td>\n",
       "      <td>Stuck in the Middle</td>\n",
       "      <td>#Browns #Indians #ClevelandProud #[]_[] #Cavs ...</td>\n",
       "      <td>2019-03-07 01:45:06</td>\n",
       "      <td>197</td>\n",
       "      <td>987</td>\n",
       "      <td>1488</td>\n",
       "      <td>False</td>\n",
       "      <td>2020-07-25 12:27:10</td>\n",
       "      <td>@brookbanktv The one gift #COVID19 has give me...</td>\n",
       "      <td>['COVID19']</td>\n",
       "      <td>Twitter for iPhone</td>\n",
       "      <td>False</td>\n",
       "    </tr>\n",
       "    <tr>\n",
       "      <th>4</th>\n",
       "      <td>DIPR-J&amp;K</td>\n",
       "      <td>Jammu and Kashmir</td>\n",
       "      <td>🖊️Official Twitter handle of Department of Inf...</td>\n",
       "      <td>2017-02-12 06:45:15</td>\n",
       "      <td>101009</td>\n",
       "      <td>168</td>\n",
       "      <td>101</td>\n",
       "      <td>False</td>\n",
       "      <td>2020-07-25 12:27:08</td>\n",
       "      <td>25 July : Media Bulletin on Novel #CoronaVirus...</td>\n",
       "      <td>['CoronaVirusUpdates', 'COVID19']</td>\n",
       "      <td>Twitter for Android</td>\n",
       "      <td>False</td>\n",
       "    </tr>\n",
       "    <tr>\n",
       "      <th>...</th>\n",
       "      <td>...</td>\n",
       "      <td>...</td>\n",
       "      <td>...</td>\n",
       "      <td>...</td>\n",
       "      <td>...</td>\n",
       "      <td>...</td>\n",
       "      <td>...</td>\n",
       "      <td>...</td>\n",
       "      <td>...</td>\n",
       "      <td>...</td>\n",
       "      <td>...</td>\n",
       "      <td>...</td>\n",
       "      <td>...</td>\n",
       "    </tr>\n",
       "    <tr>\n",
       "      <th>140096</th>\n",
       "      <td>Aaron Derfel</td>\n",
       "      <td>Montreal</td>\n",
       "      <td>I'm the health-care journalist at the Montreal...</td>\n",
       "      <td>2010-07-01 01:19:14</td>\n",
       "      <td>18063</td>\n",
       "      <td>197</td>\n",
       "      <td>6083</td>\n",
       "      <td>True</td>\n",
       "      <td>2020-08-16 01:56:08</td>\n",
       "      <td>6) Meanwhile, the Institut national de santé p...</td>\n",
       "      <td>['COVID19']</td>\n",
       "      <td>Twitter Web App</td>\n",
       "      <td>False</td>\n",
       "    </tr>\n",
       "    <tr>\n",
       "      <th>140097</th>\n",
       "      <td>Pierre Alozie</td>\n",
       "      <td>World</td>\n",
       "      <td>Photojournalist @ F8, FFR, NUJ</td>\n",
       "      <td>2009-03-20 12:27:35</td>\n",
       "      <td>300</td>\n",
       "      <td>1002</td>\n",
       "      <td>703</td>\n",
       "      <td>False</td>\n",
       "      <td>2020-08-16 01:56:00</td>\n",
       "      <td>17912147095473612, 15/08/2020 12:43:02, Studen...</td>\n",
       "      <td>NaN</td>\n",
       "      <td>Zapier.com</td>\n",
       "      <td>False</td>\n",
       "    </tr>\n",
       "    <tr>\n",
       "      <th>140098</th>\n",
       "      <td>Pierre Alozie</td>\n",
       "      <td>World</td>\n",
       "      <td>Photojournalist @ F8, FFR, NUJ</td>\n",
       "      <td>2009-03-20 12:27:35</td>\n",
       "      <td>300</td>\n",
       "      <td>1002</td>\n",
       "      <td>703</td>\n",
       "      <td>False</td>\n",
       "      <td>2020-08-16 01:55:59</td>\n",
       "      <td>18115162954178167, 15/08/2020 13:16:55, Studen...</td>\n",
       "      <td>NaN</td>\n",
       "      <td>Zapier.com</td>\n",
       "      <td>False</td>\n",
       "    </tr>\n",
       "    <tr>\n",
       "      <th>140099</th>\n",
       "      <td>Pierre Alozie</td>\n",
       "      <td>World</td>\n",
       "      <td>Photojournalist @ F8, FFR, NUJ</td>\n",
       "      <td>2009-03-20 12:27:35</td>\n",
       "      <td>300</td>\n",
       "      <td>1002</td>\n",
       "      <td>703</td>\n",
       "      <td>False</td>\n",
       "      <td>2020-08-16 01:55:58</td>\n",
       "      <td>17899557754536668, 15/08/2020 13:16:57, Studen...</td>\n",
       "      <td>NaN</td>\n",
       "      <td>Zapier.com</td>\n",
       "      <td>False</td>\n",
       "    </tr>\n",
       "    <tr>\n",
       "      <th>140100</th>\n",
       "      <td>Pierre Alozie</td>\n",
       "      <td>World</td>\n",
       "      <td>Photojournalist @ F8, FFR, NUJ</td>\n",
       "      <td>2009-03-20 12:27:35</td>\n",
       "      <td>300</td>\n",
       "      <td>1002</td>\n",
       "      <td>703</td>\n",
       "      <td>False</td>\n",
       "      <td>2020-08-16 01:55:57</td>\n",
       "      <td>17851308170238866, 15/08/2020 13:17:08, Studen...</td>\n",
       "      <td>NaN</td>\n",
       "      <td>Zapier.com</td>\n",
       "      <td>False</td>\n",
       "    </tr>\n",
       "  </tbody>\n",
       "</table>\n",
       "<p>140101 rows × 13 columns</p>\n",
       "</div>"
      ],
      "text/plain": [
       "              user_name         user_location  \\\n",
       "0                ᏉᎥ☻լꂅϮ            astroworld   \n",
       "1         Tom Basile 🇺🇸          New York, NY   \n",
       "2       Time4fisticuffs      Pewee Valley, KY   \n",
       "3           ethel mertz  Stuck in the Middle    \n",
       "4              DIPR-J&K     Jammu and Kashmir   \n",
       "...                 ...                   ...   \n",
       "140096     Aaron Derfel              Montreal   \n",
       "140097    Pierre Alozie                 World   \n",
       "140098    Pierre Alozie                 World   \n",
       "140099    Pierre Alozie                 World   \n",
       "140100    Pierre Alozie                 World   \n",
       "\n",
       "                                         user_description  \\\n",
       "0       wednesday addams as a disney princess keepin i...   \n",
       "1       Husband, Father, Columnist & Commentator. Auth...   \n",
       "2       #Christian #Catholic #Conservative #Reagan #Re...   \n",
       "3       #Browns #Indians #ClevelandProud #[]_[] #Cavs ...   \n",
       "4       🖊️Official Twitter handle of Department of Inf...   \n",
       "...                                                   ...   \n",
       "140096  I'm the health-care journalist at the Montreal...   \n",
       "140097                     Photojournalist @ F8, FFR, NUJ   \n",
       "140098                     Photojournalist @ F8, FFR, NUJ   \n",
       "140099                     Photojournalist @ F8, FFR, NUJ   \n",
       "140100                     Photojournalist @ F8, FFR, NUJ   \n",
       "\n",
       "               user_created  user_followers  user_friends  user_favourites  \\\n",
       "0       2017-05-26 05:46:42             624           950            18775   \n",
       "1       2009-04-16 20:06:23            2253          1677               24   \n",
       "2       2009-02-28 18:57:41            9275          9525             7254   \n",
       "3       2019-03-07 01:45:06             197           987             1488   \n",
       "4       2017-02-12 06:45:15          101009           168              101   \n",
       "...                     ...             ...           ...              ...   \n",
       "140096  2010-07-01 01:19:14           18063           197             6083   \n",
       "140097  2009-03-20 12:27:35             300          1002              703   \n",
       "140098  2009-03-20 12:27:35             300          1002              703   \n",
       "140099  2009-03-20 12:27:35             300          1002              703   \n",
       "140100  2009-03-20 12:27:35             300          1002              703   \n",
       "\n",
       "        user_verified                 date  \\\n",
       "0               False  2020-07-25 12:27:21   \n",
       "1                True  2020-07-25 12:27:17   \n",
       "2               False  2020-07-25 12:27:14   \n",
       "3               False  2020-07-25 12:27:10   \n",
       "4               False  2020-07-25 12:27:08   \n",
       "...               ...                  ...   \n",
       "140096           True  2020-08-16 01:56:08   \n",
       "140097          False  2020-08-16 01:56:00   \n",
       "140098          False  2020-08-16 01:55:59   \n",
       "140099          False  2020-08-16 01:55:58   \n",
       "140100          False  2020-08-16 01:55:57   \n",
       "\n",
       "                                                     text  \\\n",
       "0       If I smelled the scent of hand sanitizers toda...   \n",
       "1       Hey @Yankees @YankeesPR and @MLB - wouldn't it...   \n",
       "2       @diane3443 @wdunlap @realDonaldTrump Trump nev...   \n",
       "3       @brookbanktv The one gift #COVID19 has give me...   \n",
       "4       25 July : Media Bulletin on Novel #CoronaVirus...   \n",
       "...                                                   ...   \n",
       "140096  6) Meanwhile, the Institut national de santé p...   \n",
       "140097  17912147095473612, 15/08/2020 12:43:02, Studen...   \n",
       "140098  18115162954178167, 15/08/2020 13:16:55, Studen...   \n",
       "140099  17899557754536668, 15/08/2020 13:16:57, Studen...   \n",
       "140100  17851308170238866, 15/08/2020 13:17:08, Studen...   \n",
       "\n",
       "                                 hashtags               source  is_retweet  \n",
       "0                                     NaN   Twitter for iPhone       False  \n",
       "1                                     NaN  Twitter for Android       False  \n",
       "2                             ['COVID19']  Twitter for Android       False  \n",
       "3                             ['COVID19']   Twitter for iPhone       False  \n",
       "4       ['CoronaVirusUpdates', 'COVID19']  Twitter for Android       False  \n",
       "...                                   ...                  ...         ...  \n",
       "140096                        ['COVID19']      Twitter Web App       False  \n",
       "140097                                NaN           Zapier.com       False  \n",
       "140098                                NaN           Zapier.com       False  \n",
       "140099                                NaN           Zapier.com       False  \n",
       "140100                                NaN           Zapier.com       False  \n",
       "\n",
       "[140101 rows x 13 columns]"
      ]
     },
     "execution_count": 9,
     "metadata": {},
     "output_type": "execute_result"
    }
   ],
   "source": [
    "#Removing duplicates\n",
    "covid_data.drop_duplicates()"
   ]
  },
  {
   "cell_type": "markdown",
   "metadata": {},
   "source": [
    "##### No duplicates in this dataset"
   ]
  },
  {
   "cell_type": "code",
   "execution_count": 10,
   "metadata": {},
   "outputs": [
    {
     "data": {
      "text/plain": [
       "user_name           object\n",
       "user_location       object\n",
       "user_description    object\n",
       "user_created        object\n",
       "user_followers       int64\n",
       "user_friends         int64\n",
       "user_favourites      int64\n",
       "user_verified         bool\n",
       "date                object\n",
       "text                object\n",
       "hashtags            object\n",
       "source              object\n",
       "is_retweet            bool\n",
       "dtype: object"
      ]
     },
     "execution_count": 10,
     "metadata": {},
     "output_type": "execute_result"
    }
   ],
   "source": [
    "covid_data.dtypes"
   ]
  },
  {
   "cell_type": "code",
   "execution_count": 11,
   "metadata": {},
   "outputs": [
    {
     "data": {
      "text/plain": [
       "108665.41141033969"
      ]
     },
     "execution_count": 11,
     "metadata": {},
     "output_type": "execute_result"
    }
   ],
   "source": [
    "#Average number of followers user_followers\n",
    "user_followers_avg = np.mean(covid_data['user_followers'])\n",
    "user_followers_avg"
   ]
  },
  {
   "cell_type": "code",
   "execution_count": 12,
   "metadata": {},
   "outputs": [
    {
     "data": {
      "text/plain": [
       "2104.862384993683"
      ]
     },
     "execution_count": 12,
     "metadata": {},
     "output_type": "execute_result"
    }
   ],
   "source": [
    "#Average number of user_friends\n",
    "user_friends_avg = np.mean(covid_data['user_friends'])\n",
    "user_friends_avg"
   ]
  },
  {
   "cell_type": "code",
   "execution_count": 13,
   "metadata": {},
   "outputs": [
    {
     "data": {
      "text/plain": [
       "14257.867802513902"
      ]
     },
     "execution_count": 13,
     "metadata": {},
     "output_type": "execute_result"
    }
   ],
   "source": [
    "#Average number of user_favorites\n",
    "user_favourites_avg = np.mean(covid_data['user_favourites'])\n",
    "user_favourites_avg"
   ]
  },
  {
   "cell_type": "code",
   "execution_count": 14,
   "metadata": {},
   "outputs": [
    {
     "name": "stdout",
     "output_type": "stream",
     "text": [
      "42175\n",
      "[nan \"['COVID19']\" \"['CoronaVirusUpdates', 'COVID19']\" ...\n",
      " \"['NEWS', 'NZ', 'COVID19nz', 'COVID19Aus', 'COVID19']\"\n",
      " \"['bbcnews', 'c4news', 'Newsnight', 'skynews', 'skypapers', 'covid19', 'coronavirus', 'covid19UK']\"\n",
      " \"['Chernobyl', 'COVID19']\"]\n"
     ]
    }
   ],
   "source": [
    "#unique types of hashtags\n",
    "print(covid_data['hashtags'].nunique())\n",
    "print(covid_data['hashtags'].unique())"
   ]
  },
  {
   "cell_type": "code",
   "execution_count": 34,
   "metadata": {},
   "outputs": [
    {
     "name": "stdout",
     "output_type": "stream",
     "text": [
      "number of hashtags containing \"news\": 1204\n"
     ]
    }
   ],
   "source": [
    "#How many has the word 'news' in the hashtag\n",
    "news_in_hashtag = []\n",
    "for hashtag in covid_data['hashtags']:\n",
    "    if type(hashtag) == float:\n",
    "        news_in_hashtag.append(0)\n",
    "    elif 'news' in hashtag or 'News' in hashtag:\n",
    "        news_in_hashtag.append(1)\n",
    "    else:\n",
    "        news_in_hashtag.append(0)\n",
    "\n",
    "print('number of hashtags containing \"news\": {}'.format(sum(news_in_hashtag)))"
   ]
  },
  {
   "cell_type": "code",
   "execution_count": 35,
   "metadata": {},
   "outputs": [],
   "source": [
    "#adding news_in_hashtag into the dataframe\n",
    "covid_data['news_in_hashtag'] = news_in_hashtag"
   ]
  },
  {
   "cell_type": "code",
   "execution_count": 32,
   "metadata": {},
   "outputs": [
    {
     "name": "stdout",
     "output_type": "stream",
     "text": [
      "number of hashtags containing \"covid\": 17086\n"
     ]
    }
   ],
   "source": [
    "#How many has the word 'covid' in the hashtag\n",
    "covid_in_hashtag = []\n",
    "for hashtag in covid_data['hashtags']:\n",
    "    if type(hashtag) == float:\n",
    "        covid_in_hashtag.append(0)\n",
    "    elif 'Covid' in hashtag or 'covid' in hashtag:\n",
    "        covid_in_hashtag.append(1)\n",
    "    else:\n",
    "        covid_in_hashtag.append(0)\n",
    "\n",
    "print('number of hashtags containing \"covid\": {}'.format(sum(covid_in_hashtag)))"
   ]
  },
  {
   "cell_type": "code",
   "execution_count": 33,
   "metadata": {},
   "outputs": [],
   "source": [
    "#adding covid_in_hashtag into the dataframe\n",
    "covid_data['covid_in_hashtag'] = covid_in_hashtag"
   ]
  },
  {
   "cell_type": "code",
   "execution_count": 17,
   "metadata": {},
   "outputs": [
    {
     "data": {
      "text/plain": [
       "40162"
      ]
     },
     "execution_count": 17,
     "metadata": {},
     "output_type": "execute_result"
    }
   ],
   "source": [
    "covid_data['hashtags'].isnull().sum()"
   ]
  },
  {
   "cell_type": "code",
   "execution_count": 18,
   "metadata": {},
   "outputs": [
    {
     "name": "stdout",
     "output_type": "stream",
     "text": [
      "number of unique user_names:  76144\n"
     ]
    },
    {
     "data": {
      "text/plain": [
       "array(['ᏉᎥ☻լꂅϮ', 'Tom Basile 🇺🇸', 'Time4fisticuffs', ...,\n",
       "       'The REALLY Old Guard', 'RANT-A-DAD', 'Pierre Alozie'],\n",
       "      dtype=object)"
      ]
     },
     "execution_count": 18,
     "metadata": {},
     "output_type": "execute_result"
    }
   ],
   "source": [
    "#Number of unique users\n",
    "print('number of unique user_names: ', covid_data['user_name'].nunique())\n",
    "covid_data['user_name'].unique()"
   ]
  },
  {
   "cell_type": "code",
   "execution_count": 19,
   "metadata": {},
   "outputs": [
    {
     "data": {
      "text/plain": [
       "user_name           18295\n",
       "user_location       16788\n",
       "user_description    18287\n",
       "user_created        18295\n",
       "user_followers      18295\n",
       "user_friends        18295\n",
       "user_favourites     18295\n",
       "user_verified       18295\n",
       "date                18295\n",
       "text                18295\n",
       "hashtags            13812\n",
       "source              18295\n",
       "is_retweet          18295\n",
       "dtype: int64"
      ]
     },
     "execution_count": 19,
     "metadata": {},
     "output_type": "execute_result"
    }
   ],
   "source": [
    "#How many Verified Users\n",
    "covid_data[covid_data['user_verified']==True].count()"
   ]
  },
  {
   "cell_type": "code",
   "execution_count": 20,
   "metadata": {
    "scrolled": true
   },
   "outputs": [
    {
     "data": {
      "text/plain": [
       "user_name           121806\n",
       "user_location        94899\n",
       "user_description    113847\n",
       "user_created        121806\n",
       "user_followers      121806\n",
       "user_friends        121806\n",
       "user_favourites     121806\n",
       "user_verified       121806\n",
       "date                121806\n",
       "text                121806\n",
       "hashtags             86127\n",
       "source              121761\n",
       "is_retweet          121806\n",
       "dtype: int64"
      ]
     },
     "execution_count": 20,
     "metadata": {},
     "output_type": "execute_result"
    }
   ],
   "source": [
    "#How many Unverified Users\n",
    "covid_data[covid_data['user_verified']==False].count()"
   ]
  },
  {
   "cell_type": "code",
   "execution_count": 21,
   "metadata": {},
   "outputs": [
    {
     "name": "stdout",
     "output_type": "stream",
     "text": [
      "number of unique sources:  564\n"
     ]
    }
   ],
   "source": [
    "#Types of sources\n",
    "print('number of unique sources: ', covid_data['source'].nunique())\n",
    "# covid_data['source'].unique()"
   ]
  },
  {
   "cell_type": "code",
   "execution_count": 22,
   "metadata": {},
   "outputs": [
    {
     "name": "stdout",
     "output_type": "stream",
     "text": [
      "Twitter for iPhone\n",
      "Twitter for Android\n",
      "Twitter for Android\n",
      "Twitter for iPhone\n",
      "Twitter for Android\n",
      "Twitter Web App\n"
     ]
    }
   ],
   "source": [
    "#Which sources are the tweets from? Iphone or Android?\n",
    "tweet_source = []\n",
    "for source in covid_data['source'][:6]:\n",
    "    print(source)"
   ]
  },
  {
   "cell_type": "code",
   "execution_count": 24,
   "metadata": {},
   "outputs": [],
   "source": [
    "#Setting up the spark dataframe for Querying\n",
    "covid19_df = spark.read.csv('covid19_tweets.csv',\n",
    "                           header = True,\n",
    "                           sep = ',',\n",
    "                           inferSchema = True)\n",
    "\n",
    "covid19_df.createOrReplaceTempView('covid19_tweets')"
   ]
  },
  {
   "cell_type": "code",
   "execution_count": 25,
   "metadata": {},
   "outputs": [
    {
     "name": "stdout",
     "output_type": "stream",
     "text": [
      "root\n",
      " |-- user_name: string (nullable = true)\n",
      " |-- user_location: string (nullable = true)\n",
      " |-- user_description: string (nullable = true)\n",
      " |-- user_created: string (nullable = true)\n",
      " |-- user_followers: string (nullable = true)\n",
      " |-- user_friends: string (nullable = true)\n",
      " |-- user_favourites: string (nullable = true)\n",
      " |-- user_verified: string (nullable = true)\n",
      " |-- date: string (nullable = true)\n",
      " |-- text: string (nullable = true)\n",
      " |-- hashtags: string (nullable = true)\n",
      " |-- source: string (nullable = true)\n",
      " |-- is_retweet: string (nullable = true)\n",
      "\n"
     ]
    }
   ],
   "source": [
    "covid19_df.printSchema()"
   ]
  },
  {
   "cell_type": "code",
   "execution_count": 26,
   "metadata": {},
   "outputs": [
    {
     "name": "stdout",
     "output_type": "stream",
     "text": [
      "+--------------------+--------------------+--------------------+-------------------+--------------+------------+---------------+-------------+-------------------+--------------------+--------------------+-------------------+----------+\n",
      "|           user_name|       user_location|    user_description|       user_created|user_followers|user_friends|user_favourites|user_verified|               date|                text|            hashtags|             source|is_retweet|\n",
      "+--------------------+--------------------+--------------------+-------------------+--------------+------------+---------------+-------------+-------------------+--------------------+--------------------+-------------------+----------+\n",
      "|             ᏉᎥ☻լꂅϮ|          astroworld|wednesday addams ...|2017-05-26 05:46:42|           624|         950|          18775|        False|2020-07-25 12:27:21|If I smelled the ...|                null| Twitter for iPhone|     False|\n",
      "|     Tom Basile 🇺🇸|        New York, NY|Husband, Father, ...|2009-04-16 20:06:23|          2253|        1677|             24|         True|2020-07-25 12:27:17|Hey @Yankees @Yan...|                null|Twitter for Android|     False|\n",
      "|     Time4fisticuffs|    Pewee Valley, KY|#Christian #Catho...|2009-02-28 18:57:41|          9275|        9525|           7254|        False|2020-07-25 12:27:14|@diane3443 @wdunl...|         ['COVID19']|Twitter for Android|     False|\n",
      "|         ethel mertz|Stuck in the Middle |#Browns #Indians ...|2019-03-07 01:45:06|           197|         987|           1488|        False|2020-07-25 12:27:10|@brookbanktv The ...|         ['COVID19']| Twitter for iPhone|     False|\n",
      "|            DIPR-J&K|   Jammu and Kashmir|🖊️Official Twitt...|2017-02-12 06:45:15|        101009|         168|            101|        False|2020-07-25 12:27:08|25 July : Media B...|                null|               null|      null|\n",
      "|@kansalrohit69 @D...|['CoronaVirusUpda...| Twitter for Android|              False|          null|        null|           null|         null|               null|                null|                null|               null|      null|\n",
      "|   🎹 Franz Schubert|         Новоро́ссия|🎼  #Новоро́ссия ...|2018-03-19 16:29:52|          1180|        1071|           1287|        False|2020-07-25 12:27:06|#coronavirus #cov...|['coronavirus', '...|    Twitter Web App|     False|\n",
      "|        hr bartender|     Gainesville, FL|Workplace tips an...|2008-08-12 18:19:49|         79956|       54810|           3801|        False|2020-07-25 12:27:03|How #COVID19 Will...|['COVID19', 'Recr...|             Buffer|     False|\n",
      "|      Derbyshire LPC|                null|                null|2012-02-03 18:08:10|           608|         355|             95|        False|2020-07-25 12:27:00|You now have to w...|                null|          TweetDeck|     False|\n",
      "|   Prathamesh Bendre|                null|A poet, reiki pra...|2015-04-25 08:15:41|            25|          29|             18|        False|2020-07-25 12:26:59|Praying for good ...|                null|               null|      null|\n",
      "+--------------------+--------------------+--------------------+-------------------+--------------+------------+---------------+-------------+-------------------+--------------------+--------------------+-------------------+----------+\n",
      "only showing top 10 rows\n",
      "\n"
     ]
    }
   ],
   "source": [
    "covid19_df.show(10)"
   ]
  },
  {
   "cell_type": "code",
   "execution_count": 29,
   "metadata": {},
   "outputs": [],
   "source": [
    "#Creates a text label about each bar in *rects*, displaying its height\n",
    "def autolabel_percent(rects, orientation='vert'):\n",
    "    #Prints percentage above bars for vertical bars\n",
    "    if orientation=='vert':\n",
    "        for rect in rects:\n",
    "            height - rect.get_height()\n",
    "            ax.annotate('{0:2f}%'.format(height),\n",
    "                       xy=(rect.get_x()+rect.get_width()/2, height),\n",
    "                       xytext=(0,3),\n",
    "                       weight='bold',\n",
    "                       textcoords='offset points',\n",
    "                       ha='center', va='botton',\n",
    "                       size=15)\n",
    "    elif orientation=='hort':\n",
    "        for rect in rects:\n",
    "            width = rect.get_width()\n",
    "            ax.annotate(\"{0:2f}%\".format(width),\n",
    "                       xy=(width, rect.get_y() + rect.get_height()/2),\n",
    "                       xytext=(3,-6),\n",
    "                       textcoords='offset points',\n",
    "                       size=15)"
   ]
  },
  {
   "cell_type": "code",
   "execution_count": 30,
   "metadata": {},
   "outputs": [],
   "source": [
    "#Print functions for baar graphs specifically\n",
    "def print_bar(x, y, x_label, y_label, title='insert title', orientation='vert', color='blue',\n",
    "             width=0.65, fig_size=(23,7), percentage=False, weight='bold', tick_size=20, title_size=30):\n",
    "    \n",
    "    #TODO: might have a problem with bars_for_annotation being called in scope\n",
    "    fig, ax = plt.subplots(figsize=fig_size)\n",
    "    if orientation=='vert':\n",
    "        bars_for_annotation = ax.bar(x, y, color=color, align='center', width=width)\n",
    "    elif orientation=='hort':\n",
    "        bars_for_annotation = ax.barh(x, y, color=color, align='center')\n",
    "        \n",
    "    plt.xticks(size=13, rotation=90)\n",
    "    plt.yticks(size=15)\n",
    "    plt.xlabel(x_label, size=tick_size, color=color)\n",
    "    plt.ylabel(y_label, size=tick_size, color=color)\n",
    "    plt.title(title, fontsize=title_size, color=color)\n",
    "    \n",
    "    autolabel_percentage(bars_for_annotation, orientation)\n",
    "    \n",
    "    plt.show()"
   ]
  },
  {
   "cell_type": "code",
   "execution_count": null,
   "metadata": {},
   "outputs": [],
   "source": [
    "#Converting pandas df to spark sql"
   ]
  }
 ],
 "metadata": {
  "kernelspec": {
   "display_name": "Python 3",
   "language": "python",
   "name": "python3"
  },
  "language_info": {
   "codemirror_mode": {
    "name": "ipython",
    "version": 3
   },
   "file_extension": ".py",
   "mimetype": "text/x-python",
   "name": "python",
   "nbconvert_exporter": "python",
   "pygments_lexer": "ipython3",
   "version": "3.8.5"
  }
 },
 "nbformat": 4,
 "nbformat_minor": 4
}
