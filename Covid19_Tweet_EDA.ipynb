{
 "cells": [
  {
   "cell_type": "code",
   "execution_count": 1,
   "metadata": {},
   "outputs": [],
   "source": [
    "import pandas as pd\n",
    "import numpy as np\n",
    "import nltk"
   ]
  },
  {
   "cell_type": "code",
   "execution_count": 2,
   "metadata": {
    "scrolled": true
   },
   "outputs": [
    {
     "data": {
      "text/html": [
       "<div>\n",
       "<style scoped>\n",
       "    .dataframe tbody tr th:only-of-type {\n",
       "        vertical-align: middle;\n",
       "    }\n",
       "\n",
       "    .dataframe tbody tr th {\n",
       "        vertical-align: top;\n",
       "    }\n",
       "\n",
       "    .dataframe thead th {\n",
       "        text-align: right;\n",
       "    }\n",
       "</style>\n",
       "<table border=\"1\" class=\"dataframe\">\n",
       "  <thead>\n",
       "    <tr style=\"text-align: right;\">\n",
       "      <th></th>\n",
       "      <th>user_name</th>\n",
       "      <th>user_location</th>\n",
       "      <th>user_description</th>\n",
       "      <th>user_created</th>\n",
       "      <th>user_followers</th>\n",
       "      <th>user_friends</th>\n",
       "      <th>user_favourites</th>\n",
       "      <th>user_verified</th>\n",
       "      <th>date</th>\n",
       "      <th>text</th>\n",
       "      <th>hashtags</th>\n",
       "      <th>source</th>\n",
       "      <th>is_retweet</th>\n",
       "    </tr>\n",
       "  </thead>\n",
       "  <tbody>\n",
       "    <tr>\n",
       "      <th>0</th>\n",
       "      <td>ᏉᎥ☻լꂅϮ</td>\n",
       "      <td>astroworld</td>\n",
       "      <td>wednesday addams as a disney princess keepin i...</td>\n",
       "      <td>2017-05-26 05:46:42</td>\n",
       "      <td>624</td>\n",
       "      <td>950</td>\n",
       "      <td>18775</td>\n",
       "      <td>False</td>\n",
       "      <td>2020-07-25 12:27:21</td>\n",
       "      <td>If I smelled the scent of hand sanitizers toda...</td>\n",
       "      <td>NaN</td>\n",
       "      <td>Twitter for iPhone</td>\n",
       "      <td>False</td>\n",
       "    </tr>\n",
       "    <tr>\n",
       "      <th>1</th>\n",
       "      <td>Tom Basile 🇺🇸</td>\n",
       "      <td>New York, NY</td>\n",
       "      <td>Husband, Father, Columnist &amp; Commentator. Auth...</td>\n",
       "      <td>2009-04-16 20:06:23</td>\n",
       "      <td>2253</td>\n",
       "      <td>1677</td>\n",
       "      <td>24</td>\n",
       "      <td>True</td>\n",
       "      <td>2020-07-25 12:27:17</td>\n",
       "      <td>Hey @Yankees @YankeesPR and @MLB - wouldn't it...</td>\n",
       "      <td>NaN</td>\n",
       "      <td>Twitter for Android</td>\n",
       "      <td>False</td>\n",
       "    </tr>\n",
       "    <tr>\n",
       "      <th>2</th>\n",
       "      <td>Time4fisticuffs</td>\n",
       "      <td>Pewee Valley, KY</td>\n",
       "      <td>#Christian #Catholic #Conservative #Reagan #Re...</td>\n",
       "      <td>2009-02-28 18:57:41</td>\n",
       "      <td>9275</td>\n",
       "      <td>9525</td>\n",
       "      <td>7254</td>\n",
       "      <td>False</td>\n",
       "      <td>2020-07-25 12:27:14</td>\n",
       "      <td>@diane3443 @wdunlap @realDonaldTrump Trump nev...</td>\n",
       "      <td>['COVID19']</td>\n",
       "      <td>Twitter for Android</td>\n",
       "      <td>False</td>\n",
       "    </tr>\n",
       "    <tr>\n",
       "      <th>3</th>\n",
       "      <td>ethel mertz</td>\n",
       "      <td>Stuck in the Middle</td>\n",
       "      <td>#Browns #Indians #ClevelandProud #[]_[] #Cavs ...</td>\n",
       "      <td>2019-03-07 01:45:06</td>\n",
       "      <td>197</td>\n",
       "      <td>987</td>\n",
       "      <td>1488</td>\n",
       "      <td>False</td>\n",
       "      <td>2020-07-25 12:27:10</td>\n",
       "      <td>@brookbanktv The one gift #COVID19 has give me...</td>\n",
       "      <td>['COVID19']</td>\n",
       "      <td>Twitter for iPhone</td>\n",
       "      <td>False</td>\n",
       "    </tr>\n",
       "    <tr>\n",
       "      <th>4</th>\n",
       "      <td>DIPR-J&amp;K</td>\n",
       "      <td>Jammu and Kashmir</td>\n",
       "      <td>🖊️Official Twitter handle of Department of Inf...</td>\n",
       "      <td>2017-02-12 06:45:15</td>\n",
       "      <td>101009</td>\n",
       "      <td>168</td>\n",
       "      <td>101</td>\n",
       "      <td>False</td>\n",
       "      <td>2020-07-25 12:27:08</td>\n",
       "      <td>25 July : Media Bulletin on Novel #CoronaVirus...</td>\n",
       "      <td>['CoronaVirusUpdates', 'COVID19']</td>\n",
       "      <td>Twitter for Android</td>\n",
       "      <td>False</td>\n",
       "    </tr>\n",
       "  </tbody>\n",
       "</table>\n",
       "</div>"
      ],
      "text/plain": [
       "         user_name         user_location  \\\n",
       "0           ᏉᎥ☻լꂅϮ            astroworld   \n",
       "1    Tom Basile 🇺🇸          New York, NY   \n",
       "2  Time4fisticuffs      Pewee Valley, KY   \n",
       "3      ethel mertz  Stuck in the Middle    \n",
       "4         DIPR-J&K     Jammu and Kashmir   \n",
       "\n",
       "                                    user_description         user_created  \\\n",
       "0  wednesday addams as a disney princess keepin i...  2017-05-26 05:46:42   \n",
       "1  Husband, Father, Columnist & Commentator. Auth...  2009-04-16 20:06:23   \n",
       "2  #Christian #Catholic #Conservative #Reagan #Re...  2009-02-28 18:57:41   \n",
       "3  #Browns #Indians #ClevelandProud #[]_[] #Cavs ...  2019-03-07 01:45:06   \n",
       "4  🖊️Official Twitter handle of Department of Inf...  2017-02-12 06:45:15   \n",
       "\n",
       "   user_followers  user_friends  user_favourites  user_verified  \\\n",
       "0             624           950            18775          False   \n",
       "1            2253          1677               24           True   \n",
       "2            9275          9525             7254          False   \n",
       "3             197           987             1488          False   \n",
       "4          101009           168              101          False   \n",
       "\n",
       "                  date                                               text  \\\n",
       "0  2020-07-25 12:27:21  If I smelled the scent of hand sanitizers toda...   \n",
       "1  2020-07-25 12:27:17  Hey @Yankees @YankeesPR and @MLB - wouldn't it...   \n",
       "2  2020-07-25 12:27:14  @diane3443 @wdunlap @realDonaldTrump Trump nev...   \n",
       "3  2020-07-25 12:27:10  @brookbanktv The one gift #COVID19 has give me...   \n",
       "4  2020-07-25 12:27:08  25 July : Media Bulletin on Novel #CoronaVirus...   \n",
       "\n",
       "                            hashtags               source  is_retweet  \n",
       "0                                NaN   Twitter for iPhone       False  \n",
       "1                                NaN  Twitter for Android       False  \n",
       "2                        ['COVID19']  Twitter for Android       False  \n",
       "3                        ['COVID19']   Twitter for iPhone       False  \n",
       "4  ['CoronaVirusUpdates', 'COVID19']  Twitter for Android       False  "
      ]
     },
     "execution_count": 2,
     "metadata": {},
     "output_type": "execute_result"
    }
   ],
   "source": [
    "covid_data = pd.read_csv('covid19_tweets.csv')\n",
    "covid_data.head()"
   ]
  },
  {
   "cell_type": "code",
   "execution_count": 3,
   "metadata": {},
   "outputs": [
    {
     "data": {
      "text/plain": [
       "(140101, 13)"
      ]
     },
     "execution_count": 3,
     "metadata": {},
     "output_type": "execute_result"
    }
   ],
   "source": [
    "covid_data.shape"
   ]
  },
  {
   "cell_type": "code",
   "execution_count": 4,
   "metadata": {
    "scrolled": true
   },
   "outputs": [
    {
     "data": {
      "text/html": [
       "<div>\n",
       "<style scoped>\n",
       "    .dataframe tbody tr th:only-of-type {\n",
       "        vertical-align: middle;\n",
       "    }\n",
       "\n",
       "    .dataframe tbody tr th {\n",
       "        vertical-align: top;\n",
       "    }\n",
       "\n",
       "    .dataframe thead th {\n",
       "        text-align: right;\n",
       "    }\n",
       "</style>\n",
       "<table border=\"1\" class=\"dataframe\">\n",
       "  <thead>\n",
       "    <tr style=\"text-align: right;\">\n",
       "      <th></th>\n",
       "      <th>user_name</th>\n",
       "      <th>user_location</th>\n",
       "      <th>user_description</th>\n",
       "      <th>user_created</th>\n",
       "      <th>user_followers</th>\n",
       "      <th>user_friends</th>\n",
       "      <th>user_favourites</th>\n",
       "      <th>user_verified</th>\n",
       "      <th>date</th>\n",
       "      <th>text</th>\n",
       "      <th>hashtags</th>\n",
       "      <th>source</th>\n",
       "      <th>is_retweet</th>\n",
       "    </tr>\n",
       "  </thead>\n",
       "  <tbody>\n",
       "    <tr>\n",
       "      <th>0</th>\n",
       "      <td>ᏉᎥ☻լꂅϮ</td>\n",
       "      <td>astroworld</td>\n",
       "      <td>wednesday addams as a disney princess keepin i...</td>\n",
       "      <td>2017-05-26 05:46:42</td>\n",
       "      <td>624</td>\n",
       "      <td>950</td>\n",
       "      <td>18775</td>\n",
       "      <td>False</td>\n",
       "      <td>2020-07-25 12:27:21</td>\n",
       "      <td>If I smelled the scent of hand sanitizers toda...</td>\n",
       "      <td>NaN</td>\n",
       "      <td>Twitter for iPhone</td>\n",
       "      <td>False</td>\n",
       "    </tr>\n",
       "    <tr>\n",
       "      <th>1</th>\n",
       "      <td>Tom Basile 🇺🇸</td>\n",
       "      <td>New York, NY</td>\n",
       "      <td>Husband, Father, Columnist &amp; Commentator. Auth...</td>\n",
       "      <td>2009-04-16 20:06:23</td>\n",
       "      <td>2253</td>\n",
       "      <td>1677</td>\n",
       "      <td>24</td>\n",
       "      <td>True</td>\n",
       "      <td>2020-07-25 12:27:17</td>\n",
       "      <td>Hey @Yankees @YankeesPR and @MLB - wouldn't it...</td>\n",
       "      <td>NaN</td>\n",
       "      <td>Twitter for Android</td>\n",
       "      <td>False</td>\n",
       "    </tr>\n",
       "    <tr>\n",
       "      <th>2</th>\n",
       "      <td>Time4fisticuffs</td>\n",
       "      <td>Pewee Valley, KY</td>\n",
       "      <td>#Christian #Catholic #Conservative #Reagan #Re...</td>\n",
       "      <td>2009-02-28 18:57:41</td>\n",
       "      <td>9275</td>\n",
       "      <td>9525</td>\n",
       "      <td>7254</td>\n",
       "      <td>False</td>\n",
       "      <td>2020-07-25 12:27:14</td>\n",
       "      <td>@diane3443 @wdunlap @realDonaldTrump Trump nev...</td>\n",
       "      <td>['COVID19']</td>\n",
       "      <td>Twitter for Android</td>\n",
       "      <td>False</td>\n",
       "    </tr>\n",
       "    <tr>\n",
       "      <th>3</th>\n",
       "      <td>ethel mertz</td>\n",
       "      <td>Stuck in the Middle</td>\n",
       "      <td>#Browns #Indians #ClevelandProud #[]_[] #Cavs ...</td>\n",
       "      <td>2019-03-07 01:45:06</td>\n",
       "      <td>197</td>\n",
       "      <td>987</td>\n",
       "      <td>1488</td>\n",
       "      <td>False</td>\n",
       "      <td>2020-07-25 12:27:10</td>\n",
       "      <td>@brookbanktv The one gift #COVID19 has give me...</td>\n",
       "      <td>['COVID19']</td>\n",
       "      <td>Twitter for iPhone</td>\n",
       "      <td>False</td>\n",
       "    </tr>\n",
       "    <tr>\n",
       "      <th>4</th>\n",
       "      <td>DIPR-J&amp;K</td>\n",
       "      <td>Jammu and Kashmir</td>\n",
       "      <td>🖊️Official Twitter handle of Department of Inf...</td>\n",
       "      <td>2017-02-12 06:45:15</td>\n",
       "      <td>101009</td>\n",
       "      <td>168</td>\n",
       "      <td>101</td>\n",
       "      <td>False</td>\n",
       "      <td>2020-07-25 12:27:08</td>\n",
       "      <td>25 July : Media Bulletin on Novel #CoronaVirus...</td>\n",
       "      <td>['CoronaVirusUpdates', 'COVID19']</td>\n",
       "      <td>Twitter for Android</td>\n",
       "      <td>False</td>\n",
       "    </tr>\n",
       "    <tr>\n",
       "      <th>...</th>\n",
       "      <td>...</td>\n",
       "      <td>...</td>\n",
       "      <td>...</td>\n",
       "      <td>...</td>\n",
       "      <td>...</td>\n",
       "      <td>...</td>\n",
       "      <td>...</td>\n",
       "      <td>...</td>\n",
       "      <td>...</td>\n",
       "      <td>...</td>\n",
       "      <td>...</td>\n",
       "      <td>...</td>\n",
       "      <td>...</td>\n",
       "    </tr>\n",
       "    <tr>\n",
       "      <th>140096</th>\n",
       "      <td>Aaron Derfel</td>\n",
       "      <td>Montreal</td>\n",
       "      <td>I'm the health-care journalist at the Montreal...</td>\n",
       "      <td>2010-07-01 01:19:14</td>\n",
       "      <td>18063</td>\n",
       "      <td>197</td>\n",
       "      <td>6083</td>\n",
       "      <td>True</td>\n",
       "      <td>2020-08-16 01:56:08</td>\n",
       "      <td>6) Meanwhile, the Institut national de santé p...</td>\n",
       "      <td>['COVID19']</td>\n",
       "      <td>Twitter Web App</td>\n",
       "      <td>False</td>\n",
       "    </tr>\n",
       "    <tr>\n",
       "      <th>140097</th>\n",
       "      <td>Pierre Alozie</td>\n",
       "      <td>World</td>\n",
       "      <td>Photojournalist @ F8, FFR, NUJ</td>\n",
       "      <td>2009-03-20 12:27:35</td>\n",
       "      <td>300</td>\n",
       "      <td>1002</td>\n",
       "      <td>703</td>\n",
       "      <td>False</td>\n",
       "      <td>2020-08-16 01:56:00</td>\n",
       "      <td>17912147095473612, 15/08/2020 12:43:02, Studen...</td>\n",
       "      <td>NaN</td>\n",
       "      <td>Zapier.com</td>\n",
       "      <td>False</td>\n",
       "    </tr>\n",
       "    <tr>\n",
       "      <th>140098</th>\n",
       "      <td>Pierre Alozie</td>\n",
       "      <td>World</td>\n",
       "      <td>Photojournalist @ F8, FFR, NUJ</td>\n",
       "      <td>2009-03-20 12:27:35</td>\n",
       "      <td>300</td>\n",
       "      <td>1002</td>\n",
       "      <td>703</td>\n",
       "      <td>False</td>\n",
       "      <td>2020-08-16 01:55:59</td>\n",
       "      <td>18115162954178167, 15/08/2020 13:16:55, Studen...</td>\n",
       "      <td>NaN</td>\n",
       "      <td>Zapier.com</td>\n",
       "      <td>False</td>\n",
       "    </tr>\n",
       "    <tr>\n",
       "      <th>140099</th>\n",
       "      <td>Pierre Alozie</td>\n",
       "      <td>World</td>\n",
       "      <td>Photojournalist @ F8, FFR, NUJ</td>\n",
       "      <td>2009-03-20 12:27:35</td>\n",
       "      <td>300</td>\n",
       "      <td>1002</td>\n",
       "      <td>703</td>\n",
       "      <td>False</td>\n",
       "      <td>2020-08-16 01:55:58</td>\n",
       "      <td>17899557754536668, 15/08/2020 13:16:57, Studen...</td>\n",
       "      <td>NaN</td>\n",
       "      <td>Zapier.com</td>\n",
       "      <td>False</td>\n",
       "    </tr>\n",
       "    <tr>\n",
       "      <th>140100</th>\n",
       "      <td>Pierre Alozie</td>\n",
       "      <td>World</td>\n",
       "      <td>Photojournalist @ F8, FFR, NUJ</td>\n",
       "      <td>2009-03-20 12:27:35</td>\n",
       "      <td>300</td>\n",
       "      <td>1002</td>\n",
       "      <td>703</td>\n",
       "      <td>False</td>\n",
       "      <td>2020-08-16 01:55:57</td>\n",
       "      <td>17851308170238866, 15/08/2020 13:17:08, Studen...</td>\n",
       "      <td>NaN</td>\n",
       "      <td>Zapier.com</td>\n",
       "      <td>False</td>\n",
       "    </tr>\n",
       "  </tbody>\n",
       "</table>\n",
       "<p>140101 rows × 13 columns</p>\n",
       "</div>"
      ],
      "text/plain": [
       "              user_name         user_location  \\\n",
       "0                ᏉᎥ☻լꂅϮ            astroworld   \n",
       "1         Tom Basile 🇺🇸          New York, NY   \n",
       "2       Time4fisticuffs      Pewee Valley, KY   \n",
       "3           ethel mertz  Stuck in the Middle    \n",
       "4              DIPR-J&K     Jammu and Kashmir   \n",
       "...                 ...                   ...   \n",
       "140096     Aaron Derfel              Montreal   \n",
       "140097    Pierre Alozie                 World   \n",
       "140098    Pierre Alozie                 World   \n",
       "140099    Pierre Alozie                 World   \n",
       "140100    Pierre Alozie                 World   \n",
       "\n",
       "                                         user_description  \\\n",
       "0       wednesday addams as a disney princess keepin i...   \n",
       "1       Husband, Father, Columnist & Commentator. Auth...   \n",
       "2       #Christian #Catholic #Conservative #Reagan #Re...   \n",
       "3       #Browns #Indians #ClevelandProud #[]_[] #Cavs ...   \n",
       "4       🖊️Official Twitter handle of Department of Inf...   \n",
       "...                                                   ...   \n",
       "140096  I'm the health-care journalist at the Montreal...   \n",
       "140097                     Photojournalist @ F8, FFR, NUJ   \n",
       "140098                     Photojournalist @ F8, FFR, NUJ   \n",
       "140099                     Photojournalist @ F8, FFR, NUJ   \n",
       "140100                     Photojournalist @ F8, FFR, NUJ   \n",
       "\n",
       "               user_created  user_followers  user_friends  user_favourites  \\\n",
       "0       2017-05-26 05:46:42             624           950            18775   \n",
       "1       2009-04-16 20:06:23            2253          1677               24   \n",
       "2       2009-02-28 18:57:41            9275          9525             7254   \n",
       "3       2019-03-07 01:45:06             197           987             1488   \n",
       "4       2017-02-12 06:45:15          101009           168              101   \n",
       "...                     ...             ...           ...              ...   \n",
       "140096  2010-07-01 01:19:14           18063           197             6083   \n",
       "140097  2009-03-20 12:27:35             300          1002              703   \n",
       "140098  2009-03-20 12:27:35             300          1002              703   \n",
       "140099  2009-03-20 12:27:35             300          1002              703   \n",
       "140100  2009-03-20 12:27:35             300          1002              703   \n",
       "\n",
       "        user_verified                 date  \\\n",
       "0               False  2020-07-25 12:27:21   \n",
       "1                True  2020-07-25 12:27:17   \n",
       "2               False  2020-07-25 12:27:14   \n",
       "3               False  2020-07-25 12:27:10   \n",
       "4               False  2020-07-25 12:27:08   \n",
       "...               ...                  ...   \n",
       "140096           True  2020-08-16 01:56:08   \n",
       "140097          False  2020-08-16 01:56:00   \n",
       "140098          False  2020-08-16 01:55:59   \n",
       "140099          False  2020-08-16 01:55:58   \n",
       "140100          False  2020-08-16 01:55:57   \n",
       "\n",
       "                                                     text  \\\n",
       "0       If I smelled the scent of hand sanitizers toda...   \n",
       "1       Hey @Yankees @YankeesPR and @MLB - wouldn't it...   \n",
       "2       @diane3443 @wdunlap @realDonaldTrump Trump nev...   \n",
       "3       @brookbanktv The one gift #COVID19 has give me...   \n",
       "4       25 July : Media Bulletin on Novel #CoronaVirus...   \n",
       "...                                                   ...   \n",
       "140096  6) Meanwhile, the Institut national de santé p...   \n",
       "140097  17912147095473612, 15/08/2020 12:43:02, Studen...   \n",
       "140098  18115162954178167, 15/08/2020 13:16:55, Studen...   \n",
       "140099  17899557754536668, 15/08/2020 13:16:57, Studen...   \n",
       "140100  17851308170238866, 15/08/2020 13:17:08, Studen...   \n",
       "\n",
       "                                 hashtags               source  is_retweet  \n",
       "0                                     NaN   Twitter for iPhone       False  \n",
       "1                                     NaN  Twitter for Android       False  \n",
       "2                             ['COVID19']  Twitter for Android       False  \n",
       "3                             ['COVID19']   Twitter for iPhone       False  \n",
       "4       ['CoronaVirusUpdates', 'COVID19']  Twitter for Android       False  \n",
       "...                                   ...                  ...         ...  \n",
       "140096                        ['COVID19']      Twitter Web App       False  \n",
       "140097                                NaN           Zapier.com       False  \n",
       "140098                                NaN           Zapier.com       False  \n",
       "140099                                NaN           Zapier.com       False  \n",
       "140100                                NaN           Zapier.com       False  \n",
       "\n",
       "[140101 rows x 13 columns]"
      ]
     },
     "execution_count": 4,
     "metadata": {},
     "output_type": "execute_result"
    }
   ],
   "source": [
    "#Removing duplicates\n",
    "covid_data.drop_duplicates()"
   ]
  },
  {
   "cell_type": "markdown",
   "metadata": {},
   "source": [
    "##### No duplicates in this dataset"
   ]
  },
  {
   "cell_type": "code",
   "execution_count": 5,
   "metadata": {},
   "outputs": [
    {
     "data": {
      "text/plain": [
       "user_name           object\n",
       "user_location       object\n",
       "user_description    object\n",
       "user_created        object\n",
       "user_followers       int64\n",
       "user_friends         int64\n",
       "user_favourites      int64\n",
       "user_verified         bool\n",
       "date                object\n",
       "text                object\n",
       "hashtags            object\n",
       "source              object\n",
       "is_retweet            bool\n",
       "dtype: object"
      ]
     },
     "execution_count": 5,
     "metadata": {},
     "output_type": "execute_result"
    }
   ],
   "source": [
    "covid_data.dtypes"
   ]
  },
  {
   "cell_type": "code",
   "execution_count": 6,
   "metadata": {},
   "outputs": [
    {
     "data": {
      "text/plain": [
       "108665.41141033969"
      ]
     },
     "execution_count": 6,
     "metadata": {},
     "output_type": "execute_result"
    }
   ],
   "source": [
    "#Average number of followers user_followers\n",
    "user_followers_avg = np.mean(covid_data['user_followers'])\n",
    "user_followers_avg"
   ]
  },
  {
   "cell_type": "code",
   "execution_count": 7,
   "metadata": {},
   "outputs": [
    {
     "data": {
      "text/plain": [
       "2104.862384993683"
      ]
     },
     "execution_count": 7,
     "metadata": {},
     "output_type": "execute_result"
    }
   ],
   "source": [
    "#Average number of user_friends\n",
    "user_friends_avg = np.mean(covid_data['user_friends'])\n",
    "user_friends_avg"
   ]
  },
  {
   "cell_type": "code",
   "execution_count": 8,
   "metadata": {},
   "outputs": [
    {
     "data": {
      "text/plain": [
       "14257.867802513902"
      ]
     },
     "execution_count": 8,
     "metadata": {},
     "output_type": "execute_result"
    }
   ],
   "source": [
    "#Average number of user_favorites\n",
    "user_favourites_avg = np.mean(covid_data['user_favourites'])\n",
    "user_favourites_avg"
   ]
  },
  {
   "cell_type": "code",
   "execution_count": 9,
   "metadata": {},
   "outputs": [
    {
     "name": "stdout",
     "output_type": "stream",
     "text": [
      "42175\n",
      "[nan \"['COVID19']\" \"['CoronaVirusUpdates', 'COVID19']\" ...\n",
      " \"['NEWS', 'NZ', 'COVID19nz', 'COVID19Aus', 'COVID19']\"\n",
      " \"['bbcnews', 'c4news', 'Newsnight', 'skynews', 'skypapers', 'covid19', 'coronavirus', 'covid19UK']\"\n",
      " \"['Chernobyl', 'COVID19']\"]\n"
     ]
    }
   ],
   "source": [
    "#unique types of hashtags\n",
    "print(covid_data['hashtags'].nunique())\n",
    "print(covid_data['hashtags'].unique())"
   ]
  },
  {
   "cell_type": "code",
   "execution_count": 10,
   "metadata": {},
   "outputs": [
    {
     "name": "stdout",
     "output_type": "stream",
     "text": [
      "number of hashtags containing \"news\": 1204\n"
     ]
    }
   ],
   "source": [
    "#How many has the word 'news' in the hashtag\n",
    "news_in_hashtag = []\n",
    "for hashtag in covid_data['hashtags']:\n",
    "    if type(hashtag) == float:\n",
    "        continue\n",
    "    elif 'news' in hashtag or 'News' in hashtag:\n",
    "        news_in_hashtag.append(1)\n",
    "    else:\n",
    "        news_in_hashtag.append(0)\n",
    "\n",
    "print('number of hashtags containing \"news\": {}'.format(sum(news_in_hashtag)))"
   ]
  },
  {
   "cell_type": "code",
   "execution_count": 11,
   "metadata": {},
   "outputs": [
    {
     "name": "stdout",
     "output_type": "stream",
     "text": [
      "number of hashtags containing \"covid\": 17086\n"
     ]
    }
   ],
   "source": [
    "#How many has the word 'covid' in the hashtag\n",
    "covid_in_hashtag = []\n",
    "for hashtag in covid_data['hashtags']:\n",
    "    if type(hashtag) == float:\n",
    "        continue\n",
    "    elif 'Covid' in hashtag or 'covid' in hashtag:\n",
    "        covid_in_hashtag.append(1)\n",
    "    else:\n",
    "        covid_in_hashtag.append(0)\n",
    "\n",
    "print('number of hashtags containing \"covid\": {}'.format(sum(covid_in_hashtag)))"
   ]
  },
  {
   "cell_type": "code",
   "execution_count": 12,
   "metadata": {},
   "outputs": [
    {
     "data": {
      "text/plain": [
       "40162"
      ]
     },
     "execution_count": 12,
     "metadata": {},
     "output_type": "execute_result"
    }
   ],
   "source": [
    "covid_data['hashtags'].isnull().sum()"
   ]
  },
  {
   "cell_type": "code",
   "execution_count": 15,
   "metadata": {},
   "outputs": [
    {
     "name": "stdout",
     "output_type": "stream",
     "text": [
      "number of unique user_names:  76144\n"
     ]
    },
    {
     "data": {
      "text/plain": [
       "array(['ᏉᎥ☻լꂅϮ', 'Tom Basile 🇺🇸', 'Time4fisticuffs', ...,\n",
       "       'The REALLY Old Guard', 'RANT-A-DAD', 'Pierre Alozie'],\n",
       "      dtype=object)"
      ]
     },
     "execution_count": 15,
     "metadata": {},
     "output_type": "execute_result"
    }
   ],
   "source": [
    "#Number of unique users\n",
    "print('number of unique user_names: ', covid_data['user_name'].nunique())\n",
    "covid_data['user_name'].unique()"
   ]
  },
  {
   "cell_type": "code",
   "execution_count": 19,
   "metadata": {},
   "outputs": [
    {
     "data": {
      "text/plain": [
       "user_name           18295\n",
       "user_location       16788\n",
       "user_description    18287\n",
       "user_created        18295\n",
       "user_followers      18295\n",
       "user_friends        18295\n",
       "user_favourites     18295\n",
       "user_verified       18295\n",
       "date                18295\n",
       "text                18295\n",
       "hashtags            13812\n",
       "source              18295\n",
       "is_retweet          18295\n",
       "dtype: int64"
      ]
     },
     "execution_count": 19,
     "metadata": {},
     "output_type": "execute_result"
    }
   ],
   "source": [
    "#How many Verified Users\n",
    "covid_data[covid_data['user_verified']==True].count()"
   ]
  },
  {
   "cell_type": "code",
   "execution_count": 20,
   "metadata": {
    "scrolled": true
   },
   "outputs": [
    {
     "data": {
      "text/plain": [
       "user_name           121806\n",
       "user_location        94899\n",
       "user_description    113847\n",
       "user_created        121806\n",
       "user_followers      121806\n",
       "user_friends        121806\n",
       "user_favourites     121806\n",
       "user_verified       121806\n",
       "date                121806\n",
       "text                121806\n",
       "hashtags             86127\n",
       "source              121761\n",
       "is_retweet          121806\n",
       "dtype: int64"
      ]
     },
     "execution_count": 20,
     "metadata": {},
     "output_type": "execute_result"
    }
   ],
   "source": [
    "#How many Unverified Users\n",
    "covid_data[covid_data['user_verified']==False].count()"
   ]
  },
  {
   "cell_type": "code",
   "execution_count": 26,
   "metadata": {},
   "outputs": [
    {
     "name": "stdout",
     "output_type": "stream",
     "text": [
      "number of unique sources:  564\n"
     ]
    },
    {
     "data": {
      "text/plain": [
       "array(['Twitter for iPhone', 'Twitter for Android', 'Twitter Web App',\n",
       "       'Buffer', 'TweetDeck', 'Twitter for iPad', 'Africa Newsroom',\n",
       "       'Blood Donors India', 'TweetCaster for Android',\n",
       "       'Alexander Higgins', 'IFTTT', 'Hootsuite Inc.', 'Sprout Social',\n",
       "       'Sprinklr', 'assarofficial', 'IAMBLOG2TWITTER', 'CrowdControlHQ',\n",
       "       'COVID19-Updates', 'EveryoneSocial', 'Dynamic Signal', 'Instagram',\n",
       "       'TweetCaster for iOS', 'GlobalPandemic.NET', 'Venrap Radio',\n",
       "       'HeyOrca', 'Twitter for Advertisers', 'Paper.li',\n",
       "       'Twitter Media Studio', 'Twitter for Mac', 'dlvr.it',\n",
       "       'Cheap Bots, Done Quick!', 'Prof. Shanku', 'LaterMedia',\n",
       "       'SEMrush Social Media Tool', 'Twitterrific for iOS',\n",
       "       \"Sebastian's Twitter Bot\", 'Threader_client', 'COVID19FactoidBot',\n",
       "       'PwC UK SMART', 'tweet pro stiff', 'UK COVID-19 Alerts',\n",
       "       'Resistbot Open Letters', 'preprint-alert', 'ContentStudio.io',\n",
       "       'Peeping Moon', 'TweetAutomaticos', 'Orlo', 'AgoraPulse Manager',\n",
       "       'Meltwater Social', 'Blog2Social APP',\n",
       "       'Social Genie by Brighter Vision', 'Social Media Publisher App ',\n",
       "       'VoiceToData', 'Hearsay Social', 'Metricool', 'SocialPilot.co',\n",
       "       'Loomly', 'Оwly', 'Facelift-Cloud', 'Khoros', 'Oktopost',\n",
       "       'coronaData_Test', 'SocialOomph', 'SmarterQueue',\n",
       "       'Salesforce - Social Studio', 'Twittimer', 'Dolar Değişti!',\n",
       "       'COVID19 Update', 'LinkedIn', 'Socialbakers',\n",
       "       'Bambu by Sprout Social', 'HubSpot', 'National Herald',\n",
       "       'Twitter Ads', 'twootlk', 'WordPress.com',\n",
       "       'Twitter Media Studio - LiveCut', 'Covid-19 Bot',\n",
       "       'Tweetbot for iΟS', 'Zoho Social', 'Mobile Web (M2)',\n",
       "       'Global Citizen Mobile App', 'whatSaoCarlos', 'Tweetbot for Mac',\n",
       "       'FS Poster', 'rate_twitte', 'corona-recoveries',\n",
       "       'The Social Jukebox', 'ContentCal Studio', 'OneUp App',\n",
       "       'Promo.com', 'TopHashtags', 'autotweet scheduler', 'NepalCorona',\n",
       "       'Khoros Marketing', 'Hocalwire Social Share', 'DataScienceInfo',\n",
       "       'crystalwind.ca', 'SNAP-Homeless Times',\n",
       "       'COVID-19 Information Bot', 'eMartmarket', 'trackingbot2020',\n",
       "       'MeetEdgar', 'Twidere for Android', 'econ b2b post', 'Aleph א ',\n",
       "       'SocialBee.io v2', 'Spreaker', 'ExanteData Robots', 'Mention\\xa0',\n",
       "       'Sked Social', 'Periscope', 'CoronaVirus Bot by Sloth',\n",
       "       'dailyindia', 'Tweet Suite', 'SurveyCircle Team', 'PTI_Tweets',\n",
       "       'Swat.io', 'Restream.io', 'Powered by Sprinklr', 'GT_Backend',\n",
       "       'HN_Comments', '@thedextazlab', 'China Xinhua News', 'ArmeniaITN',\n",
       "       'Crowdfire App', 'Microsoft Power Platform', 'Bitly', 'Echofon',\n",
       "       'Ripl App', 'WPwamnwebsitescript', 'corona_stats',\n",
       "       'CoronaTrackerMY', 'The Tweeted Times', 'Qureet Leads',\n",
       "       'Threat Intel Hub', 'My Khel', 'Falcon Social Media Management ',\n",
       "       'Zapier.com', 'Echobox', 'Scoop.it', 'SocialRabbit Plugin',\n",
       "       'covid19_tracker', 'Cubi.so', 'SocialChamp IO ', 'twittbot.net',\n",
       "       'pixiv: Post to Twitter', 'drumup.io', 'mpsontwitter.co.uk',\n",
       "       'Covid19daily', 'SocialFlow', 'Vattel Tracker Dev',\n",
       "       'Radio.co now playing', 'POST.it - Edit,Share,Rediscover',\n",
       "       'SocialNewsDesk', nan, 'Phone2Action', 'tweeter_biases',\n",
       "       'Heropost', 'rhega.net', 'Nuzzel', 'DR Data', 'Seket Aanru LVLII',\n",
       "       'Grabyo', 'sphere_ja_bot', 'Wildmoka', 'TrackerCV',\n",
       "       \"iContact's Social Tools\", 'Igorotage', 'HWD', 'Mailchimp',\n",
       "       'Sprinklr Publishing', 'Integromat', 'Fabrik.fm',\n",
       "       'Clearview Social, Inc.', 'Friends Me', 'Stuffed Productions',\n",
       "       'Revive Social App', 'Flamingo for Android',\n",
       "       'Microsoft Azure Logic Apps', 'MavSocial App', 'Smarp.',\n",
       "       'UberSocial for Android', 'Missinglettr', 'Canva', 'Talon Android',\n",
       "       'Konnect Social', 'Siargao Guide', 'PinkVilla', 'Penname',\n",
       "       'Kashmir Life', \"Monty's Twitter Reposter\", 'SnapStream TV Search',\n",
       "       'WatchDog Uganda', 'True Anthem', 'MarketingSuite', 'Corona-Stats',\n",
       "       'Twitter for  iPhone', 'Social Head', 'BookClubProTweet',\n",
       "       'covid19_counter', 'PromoRepublic', 'PolitiHUB.us', 'Raven Tools',\n",
       "       'COVID19-Tweet', 'Cancer Health Auto Tweet', 'remote.io',\n",
       "       'Arena.im', 'Isrg', 'Constant Contact', 'Google', 'VegaLms',\n",
       "       'DTR Auto Post', 'CoSchedule', 'COVID19 Daily Stats', 'CovidDay',\n",
       "       'COVID-19MX', 'SmartNews | スマートニュース', 'Spire FM', 'eClincher',\n",
       "       'Typepad', 'Publer ', 'Botbird tweets', 'shankar_live_bot',\n",
       "       'Shauntv', \"Bob's Python tweetbot\", 'Sprinklr Publisher',\n",
       "       'Commun.it Intelligence', 'Nintendo Switch Share',\n",
       "       \"Stalin's Twitter Reposter\", 'WeVideo', 'recurpost.com',\n",
       "       'El Cañonazo de las 9', 'Tweetings for Android', 'JoinDiaspora',\n",
       "       'Post Planner Inc.', 'DopeyUncle2', 'COVIDRecoveredBot',\n",
       "       'Qnary.io', 'Canada Covid-19 Stats', 'Twitter Test App P',\n",
       "       'Nelio Content', 'PlayStation®Network', 'Covid19_MV',\n",
       "       'Postcron App', 'TtwTimes Top News', 'Chicken Nugget',\n",
       "       'Plume\\xa0for\\xa0Android', 'Fenix 2', 'ETRetail.com',\n",
       "       'Campaign Share', 'Postfity.com', 'newsgovhk', 'Sociality.io',\n",
       "       'Echofon  Android', \"Rumpet's Twitter Poster\", 'PostBeyond',\n",
       "       'dnh twitter publisher', 'news_by_gatfil', 'Pardot',\n",
       "       'App for IconicHipster.com', 'CovidUpdatesBot', 'KhuramKTS',\n",
       "       'NIAAuto', 'fovle', 'Imminent News', 'PublishBestNews',\n",
       "       'LFALSNAPAP', 'HW news english', 'StreamElements',\n",
       "       'Mediaproxy LogJam', 'dancehallaudio',\n",
       "       'Liberal Forum Political Chat', 'NippyTweet',\n",
       "       'That Best Home Automation', 'Dear_Assistant', 'Bot Libre!',\n",
       "       'NCoV-19 Tracker', 'tprzechlewski.app', 'DataBlogger',\n",
       "       'POZ Auto Tweet', 'SocialDog for Twitter', 'AtlantaTechBlogs',\n",
       "       'ReadyForSocial App', 'Traject Social', 'abrbuzz',\n",
       "       'Auto-Post (IMW)', 'ME Construction News', 'NetNaija Twiit',\n",
       "       'TrafficChiefNG', 'EUobserver', 'Flote.app', 'aa.com.tr',\n",
       "       'Twitterrific for Mac', 'Bizcommunity.com', 'Covid Robot',\n",
       "       'VoxPop Sync', 'stocktitan', 'StockTwits Web', 'Dr. Kill Pain',\n",
       "       'SociabbleApp', 'Post to Social by SHIFT1', 'PRNewswire',\n",
       "       'Hep Auto Tweet', 'Chorus publishing platform',\n",
       "       'masterdebater.net', 'A Touch of Snark', 'Login CricketCountry',\n",
       "       \"Let's Talk Singapore\", 'RiteKit', 'Etsy', 'Zlappo.com',\n",
       "       'DirectorsTalk Auto Posting', 'GlobalVillageSpace',\n",
       "       'TeamSight Publisher', 'naalikeram', 'Amplifr', 'News Medical',\n",
       "       'Agenparl', 'Hacker Noon', 'Salsa Social Publishing', 'feedspora2',\n",
       "       'Tech_Tee_Shop', 'CensoredTodayPoster', 'Tumblr', 'Weebly App',\n",
       "       'science faction twitter bot', 'SocialHub by maloon', 'PNSposter',\n",
       "       'Social Reputation', 'RSS Masher - Dev', 'Planable', 'Trump OwO',\n",
       "       \"Bongani's Auto Poster\", 'TTYtter', 'BAPSCharities',\n",
       "       'thefivedaily', 'RegulatorWatch.com', 'BrentStafford.com',\n",
       "       'Phil Ammann', 'flapol', 'Squarespace', 'VoiceFeed',\n",
       "       'Libsyn On-Publish', 'Sharpspring', 'Twitseq', 'Social Press Kit',\n",
       "       'Lightful', 'Gain Platform', 'OregonCovidApp',\n",
       "       'Dynamics 365 for Marketing', 'yorkshire-times', 'Contento App',\n",
       "       'XHNorthAmerica', 'ContentMX', 'opendorse', 'Greenfly',\n",
       "       'Freshdesk', 'Triberr', 'EdgeTheory', 'Emma Social Connector',\n",
       "       'POZ Global Auto Tweets', 'likefollowretweet', 'Healio Twitter',\n",
       "       'Partnermarketing.com', 'EnrichrBot', 'Statusbrew',\n",
       "       'Zift Platform', 'Constant Contact - Social Posts', 'Tweepsmap',\n",
       "       'WayScript', 'SoCast Digital', 'allAfrica.com', 'paulcrypto',\n",
       "       'nwindianabusiness.com', 'tc_covid_bot', 'Newry.ie',\n",
       "       'SPTK: DVOrangeCounty', 'cmsoc', 'VoterVoice Tweet', 'Rallio',\n",
       "       'FalconPro3', 'Cloud Campaign', 'RelojesESP', 'Socialchief',\n",
       "       'SpaceRefTweet', 'PLAYLOADED.COM', 'TD Wealth Social Centre',\n",
       "       'covid19oceanupdate', 'Janetter Pro for Android',\n",
       "       'Fortinet Partner Social', 'Emphatic', 'BLOX CMS',\n",
       "       'Onollo Software', 'GCCHD', 'floridapolitics.com', 'Web lider',\n",
       "       'SOCi - Simplifying Social Media', 'Contentpilot', 'ayasetenchi',\n",
       "       'Chimpify', \"K's posts\", 'Downtime Monkey', 'COVID19TwitterKenya',\n",
       "       'Quotes as image', 'Lead Accel', 'Streamlabs Twitter',\n",
       "       'Dynamic Tweets', 'LatelyAI', 'Foursquare', 'Maat_Interface',\n",
       "       'coronaBot-Purvesh', 'OneCMS Social Connect', 'BTCNbot',\n",
       "       'InterfaceCDM', 'QuickTake by Bloomberg', 'Fan Page Robot',\n",
       "       'Hypefury', 'VotepledgeBot', 'covidestimates',\n",
       "       'Phone2Action Advocacy', 'Enthusiast97', 'NewsAutocorrect',\n",
       "       'Ohhtweet', 'TheLancsTimes', 'TW Blue', 'Apphi',\n",
       "       'Canada COVID-19 Bot', 'standard3d', 'chirr.app',\n",
       "       'GearGuide Twitter', 'SlackSocial', 'Pressenza IPA eng',\n",
       "       'SiteAssist Social Posting', 'ZenRud', 'ThreadReaderApp',\n",
       "       'Cognitive Website', 'UNIAN.info', 'UNIAN Info',\n",
       "       'Tech Nation News updates', 'Fenix for Android', 'Percolate',\n",
       "       'GroupTweet', 'Social Aider', 'CyberSecDN v.2',\n",
       "       'Inclusibot_Revenge', 'Nolwa-Digital', 'OS X', \"Janindu's Bot\",\n",
       "       'Influitive', 'Tweecha Lite', 'SocialShare PRD',\n",
       "       'Woofy Social Media Scheduler', 'ISN Autotweet',\n",
       "       'App for TonysTShirts', 'Market Beam', 'PLANOLY', 'COVIDTweetBot',\n",
       "       'eupdater', 'Newswise Expert Pitch', 'Bigram Poetry',\n",
       "       'Imbibe Website Publishing', 'PixelTweeter', 'Coosto', 'Nonli',\n",
       "       'Blackbird Video Platform/Amplify', 'ALCOVID19',\n",
       "       'Hub Central APP Agencies', 'Marketing Agency', '4strat-foresight',\n",
       "       'audioBoom', 'Grapevine6', 'GaggleAMP', 'StockBot0001',\n",
       "       'SocialPost App', 'Right Relevance', 'Social5',\n",
       "       'COVID Articles on SP Journals', 'coronalivebot',\n",
       "       'Ontario_Covid19', 'Zymplify', 'Whitley2020', 'ChimpReports_',\n",
       "       'OnlyPultCom', 'Washington Square Parkerz', 'WashSquarePrkrz',\n",
       "       'VA COVID-19 Updates', 'twmode', 'www.diolch.wales',\n",
       "       'COVID-19 Alerts', 'TMZ iPhone Social Application',\n",
       "       'Elgato Stream Deck', 'Bloglovin', 'Coronavirus tracker bot',\n",
       "       \"Joe's Politics\", 'TwitPane for Android', 'EastMojo',\n",
       "       'Co-Kinetic ', 'Moa Bridge', 'UhmazingPressRelease',\n",
       "       'Ozclubbers Posts', '15 Minute Fun', 'plague-bot', 'Ryzely',\n",
       "       'LegendLakeComApp', 'STL.News', 'Tweetlogix', 'WoopSocial',\n",
       "       'Vaccines and Homeopathy News', 'Lately Social', 'SocialGest',\n",
       "       'BS-SMAP', 'PressPage Manager', 'Snaps1', 'App Political Hispanic',\n",
       "       '24liveblog', 'Choqok', 'GovernmentCyberWeb', 'PublishToTwitter',\n",
       "       'xh_scitech', 'WP to Twitter EPR', 'Ground News',\n",
       "       'Twitter Web Client', 'uwf.london', 'Posting Platform',\n",
       "       'WP to Twitter IAR', 'Total Travel TAG', '_stranger_twitterbot_',\n",
       "       'Paiger', 'CGS Tech Tweeter', ' Xinhua Sports', 'TanPaulus27',\n",
       "       'Mastodon-Twitter Crossposter', 'TS Auto Tweet', 'RH Auto Tweet',\n",
       "       'Twibble.io', 'Portal de CNMG', 'Revive Old NatCorn Posts',\n",
       "       'The Recycler', 'Kontentino', 'PostPickr', 'HealthBuzz Tweets',\n",
       "       'CIO Tech Asia Twitter', 'PolitiTweet Alerts', 'Africa News Hub',\n",
       "       'Dram Scotland', 'oneindia entertainment', 'gifincric',\n",
       "       'The Shirt List', 'Hail — Create Curate Communicate',\n",
       "       \"Hamish's Twitter Reposter\", 'Sane Auto Tweet', 'forafriendbot',\n",
       "       'Boma Marketing', 'Fox XRIO 2 News ', 'trumpDigest', 'CivilDialog',\n",
       "       'Do It Later', 'ActivewearShopping', 'peetm', 'covid19statusbot',\n",
       "       'Academia Meme Stack', 'The Unshackled',\n",
       "       'Unshackled Content Poster', 'The Tweeted Times Mobile'],\n",
       "      dtype=object)"
      ]
     },
     "execution_count": 26,
     "metadata": {},
     "output_type": "execute_result"
    }
   ],
   "source": [
    "#Types of sources\n",
    "print('number of unique sources: ', covid_data['source'].nunique())\n",
    "covid_data['source'].unique()"
   ]
  },
  {
   "cell_type": "code",
   "execution_count": 22,
   "metadata": {},
   "outputs": [
    {
     "name": "stdout",
     "output_type": "stream",
     "text": [
      "Twitter for iPhone\n",
      "Twitter for Android\n",
      "Twitter for Android\n",
      "Twitter for iPhone\n",
      "Twitter for Android\n",
      "Twitter Web App\n"
     ]
    }
   ],
   "source": [
    "#Which sources are the tweets from? Iphone or Android?\n",
    "tweet_source = []\n",
    "for source in covid_data['source'][:6]:\n",
    "    print(source)"
   ]
  },
  {
   "cell_type": "code",
   "execution_count": null,
   "metadata": {},
   "outputs": [],
   "source": []
  }
 ],
 "metadata": {
  "kernelspec": {
   "display_name": "Python 3",
   "language": "python",
   "name": "python3"
  },
  "language_info": {
   "codemirror_mode": {
    "name": "ipython",
    "version": 3
   },
   "file_extension": ".py",
   "mimetype": "text/x-python",
   "name": "python",
   "nbconvert_exporter": "python",
   "pygments_lexer": "ipython3",
   "version": "3.7.6"
  }
 },
 "nbformat": 4,
 "nbformat_minor": 4
}
